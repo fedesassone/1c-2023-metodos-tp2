{
 "cells": [
  {
   "cell_type": "code",
   "execution_count": 1,
   "metadata": {},
   "outputs": [],
   "source": [
    "import matplotlib.pyplot as plt\n",
    "import numpy as np\n",
    "import networkx as nx\n",
    "import pandas\n",
    "from io import StringIO\n",
    "import sympy\n",
    "import scipy\n",
    "from sklearn.preprocessing import normalize\n",
    "from pathlib import Path"
   ]
  },
  {
   "cell_type": "code",
   "execution_count": 2,
   "metadata": {},
   "outputs": [],
   "source": [
    "# Funcion para correr .cpp\n",
    "\n",
    "TP = \"../src/main\"\n",
    "TEST_DIR = \"../tests/\"\n",
    "\n",
    "def run_test(test_name: str, niter: int, eps: float): \n",
    "    !{TP} {TEST_DIR + test_name} {niter} {eps}\n",
    "\n",
    "def read_result_autovalores(test_result: str):\n",
    "    return pandas.read_csv(TEST_DIR + test_result + '_autovalores.out', names=[\"autovalores\"])\n",
    "\n",
    "def read_result_autovectores(test_result: str):\n",
    "    return pandas.read_csv(TEST_DIR + test_result + '_autovectores.out' , names=[\"autovectores\"])"
   ]
  },
  {
   "attachments": {},
   "cell_type": "markdown",
   "metadata": {},
   "source": [
    "### 1. Tests metodo de la potencia"
   ]
  },
  {
   "cell_type": "code",
   "execution_count": 3,
   "metadata": {},
   "outputs": [
    {
     "name": "stdout",
     "output_type": "stream",
     "text": [
      "Corriendo el programa...\n",
      "[ 8.83835   -3.2849522  1.446602 ]\n",
      "[[ 0.88455707 -0.22057717 -0.41097993]\n",
      " [ 0.34915668 -0.27109465  0.89699346]\n",
      " [-0.30927074 -0.9369383  -0.16278271]]\n",
      "[ 7.81802505  3.08596897 -2.73344308]\n",
      "[ 7.818025  3.085969 -2.733443]\n",
      "0\n",
      "True\n",
      "1\n",
      "True\n",
      "2\n",
      "True\n"
     ]
    }
   ],
   "source": [
    "# CASO SIMETRICO\n",
    "A = np.array([\n",
    "  [ 7,  2,  -3],\n",
    "  [ 2,  2,  -2],\n",
    "  [-3, -2,  -2]\n",
    "])\n",
    "\n",
    "# GUARDO TXT\n",
    "np.savetxt(\"../tests/simetrico.txt\", A, delimiter=' ')\n",
    "\n",
    "# CORRO METODO\n",
    "run_test(\"simetrico.txt\", 100000, 1e-20)\n",
    "\n",
    "# CARGO AUTOVALORES Y AUTOVECTORES\n",
    "l = np.loadtxt(\"../tests/simetrico.txt_autovalores.out\", dtype='f', delimiter=' ')\n",
    "v = np.loadtxt(\"../tests/simetrico.txt_autovectores.out\", dtype='f', delimiter=' ', usecols=range(3))\n",
    "\n",
    "print(l)\n",
    "print(v)\n",
    "\n",
    "\n",
    "print(A @ v[:, 0])\n",
    "print(l[0] * v[:,0])\n",
    "\n",
    "for i in range(len(A)):\n",
    "    print(i)\n",
    "    print(np.allclose(A @ v[:, i], l[i] * v[:,i], 1e-6))"
   ]
  },
  {
   "cell_type": "code",
   "execution_count": 6,
   "metadata": {},
   "outputs": [
    {
     "name": "stdout",
     "output_type": "stream",
     "text": [
      "Corriendo el programa...\n",
      "Corriendo el programa...\n",
      "[78.11643   10.79091    2.0926573]\n",
      "[78.11643   10.79091    2.0926573]\n",
      "Bingo :)\n",
      "Bingo :)\n"
     ]
    }
   ],
   "source": [
    "# CASO (A) * (A traspuesta)\n",
    "AT = A @ A.T\n",
    "TA = A.T @ A\n",
    "\n",
    "# GUARDO TXT\n",
    "np.savetxt(\"../tests/AT.txt\", AT, delimiter=' ')\n",
    "np.savetxt(\"../tests/TA.txt\", TA, delimiter=' ')\n",
    "\n",
    "# CORRO METODO\n",
    "run_test(\"AT.txt\", 100000, 1e-20)\n",
    "run_test(\"TA.txt\", 100000, 1e-20)\n",
    "\n",
    "# CARGO AUTOVALORES Y AUTOVECTORES\n",
    "l_AT = np.loadtxt(\"../tests/AT.txt_autovalores.out\", dtype='f', delimiter=' ')\n",
    "v_AT = np.loadtxt(\"../tests/AT.txt_autovectores.out\", dtype='f', delimiter=' ', usecols=range(3))\n",
    "\n",
    "l_TA = np.loadtxt(\"../tests/TA.txt_autovalores.out\", dtype='f', delimiter=' ')\n",
    "v_TA = np.loadtxt(\"../tests/TA.txt_autovectores.out\", dtype='f', delimiter=' ', usecols=range(3))\n",
    "\n",
    "print(l_AT)\n",
    "print(l_TA)\n",
    "print(\"Bingo :)\" if np.allclose(l_AT,l_TA) else \"Bongo :(\")\n",
    "print(\"Bingo :)\" if np.allclose(v_AT,v_TA) else \"Bongo :(\")"
   ]
  },
  {
   "attachments": {},
   "cell_type": "markdown",
   "metadata": {},
   "source": [
    "### Ej 2 Juli"
   ]
  },
  {
   "attachments": {},
   "cell_type": "markdown",
   "metadata": {},
   "source": [
    "### PCA"
   ]
  },
  {
   "cell_type": "code",
   "execution_count": 3,
   "metadata": {},
   "outputs": [],
   "source": [
    "paths = []\n",
    "imgs = []\n",
    "for path in sorted(list(Path('caras').rglob('*/*.pgm'))):\n",
    "    paths.append(path)\n",
    "    imgs.append(plt.imread(path)[::2,::2])\n",
    "X = np.stack(imgs)"
   ]
  },
  {
   "cell_type": "code",
   "execution_count": 24,
   "metadata": {},
   "outputs": [
    {
     "name": "stdout",
     "output_type": "stream",
     "text": [
      "Corriendo el programa...\n",
      "0\n",
      "1\n",
      "2\n",
      "3\n",
      "4\n",
      "5\n",
      "6\n",
      "7\n",
      "8\n",
      "9\n",
      "10\n",
      "11\n",
      "12\n",
      "13\n",
      "14\n",
      "15\n",
      "16\n",
      "17\n",
      "18\n",
      "19\n",
      "20\n",
      "21\n",
      "22\n",
      "23\n",
      "24\n",
      "25\n",
      "26\n",
      "27\n",
      "28\n",
      "29\n",
      "30\n",
      "31\n",
      "32\n",
      "33\n",
      "34\n",
      "35\n",
      "36\n",
      "37\n",
      "38\n",
      "39\n",
      "40\n",
      "41\n",
      "42\n",
      "43\n",
      "44\n",
      "45\n",
      "46\n",
      "47\n",
      "48\n",
      "49\n",
      "50\n",
      "51\n",
      "52\n",
      "53\n",
      "54\n",
      "55\n",
      "56\n",
      "57\n",
      "58\n",
      "59\n",
      "60\n",
      "61\n",
      "62\n",
      "63\n",
      "64\n",
      "65\n",
      "66\n",
      "67\n",
      "68\n",
      "69\n",
      "70\n",
      "71\n",
      "72\n",
      "^C\n"
     ]
    },
    {
     "ename": "OSError",
     "evalue": "../tests/pca.txt_autovalores.out not found.",
     "output_type": "error",
     "traceback": [
      "\u001b[0;31m---------------------------------------------------------------------------\u001b[0m",
      "\u001b[0;31mOSError\u001b[0m                                   Traceback (most recent call last)",
      "\u001b[0;32m/tmp/ipykernel_22678/2245374089.py\u001b[0m in \u001b[0;36m<module>\u001b[0;34m\u001b[0m\n\u001b[1;32m     17\u001b[0m \u001b[0;34m\u001b[0m\u001b[0m\n\u001b[1;32m     18\u001b[0m \u001b[0;31m# CARGO AUTOVALORES Y AUTOVECTORES\u001b[0m\u001b[0;34m\u001b[0m\u001b[0;34m\u001b[0m\u001b[0;34m\u001b[0m\u001b[0m\n\u001b[0;32m---> 19\u001b[0;31m \u001b[0ml\u001b[0m \u001b[0;34m=\u001b[0m \u001b[0mnp\u001b[0m\u001b[0;34m.\u001b[0m\u001b[0mloadtxt\u001b[0m\u001b[0;34m(\u001b[0m\u001b[0;34m\"../tests/pca.txt_autovalores.out\"\u001b[0m\u001b[0;34m,\u001b[0m \u001b[0mdtype\u001b[0m\u001b[0;34m=\u001b[0m\u001b[0;34m'f'\u001b[0m\u001b[0;34m,\u001b[0m \u001b[0mdelimiter\u001b[0m\u001b[0;34m=\u001b[0m\u001b[0;34m' '\u001b[0m\u001b[0;34m)\u001b[0m\u001b[0;34m\u001b[0m\u001b[0;34m\u001b[0m\u001b[0m\n\u001b[0m\u001b[1;32m     20\u001b[0m \u001b[0mv\u001b[0m \u001b[0;34m=\u001b[0m \u001b[0mnp\u001b[0m\u001b[0;34m.\u001b[0m\u001b[0mloadtxt\u001b[0m\u001b[0;34m(\u001b[0m\u001b[0;34m\"../tests/pca.txt_autovectores.out\"\u001b[0m\u001b[0;34m,\u001b[0m \u001b[0mdtype\u001b[0m\u001b[0;34m=\u001b[0m\u001b[0;34m'f'\u001b[0m\u001b[0;34m,\u001b[0m \u001b[0mdelimiter\u001b[0m\u001b[0;34m=\u001b[0m\u001b[0;34m' '\u001b[0m\u001b[0;34m,\u001b[0m \u001b[0musecols\u001b[0m\u001b[0;34m=\u001b[0m\u001b[0mrange\u001b[0m\u001b[0;34m(\u001b[0m\u001b[0;36m3\u001b[0m\u001b[0;34m)\u001b[0m\u001b[0;34m)\u001b[0m\u001b[0;34m\u001b[0m\u001b[0;34m\u001b[0m\u001b[0m\n\u001b[1;32m     21\u001b[0m \u001b[0;34m\u001b[0m\u001b[0m\n",
      "\u001b[0;32m~/anaconda3/envs/metodos-tp2-env/lib/python3.7/site-packages/numpy/lib/npyio.py\u001b[0m in \u001b[0;36mloadtxt\u001b[0;34m(fname, dtype, comments, delimiter, converters, skiprows, usecols, unpack, ndmin, encoding, max_rows, like)\u001b[0m\n\u001b[1;32m   1065\u001b[0m             \u001b[0mfname\u001b[0m \u001b[0;34m=\u001b[0m \u001b[0mos_fspath\u001b[0m\u001b[0;34m(\u001b[0m\u001b[0mfname\u001b[0m\u001b[0;34m)\u001b[0m\u001b[0;34m\u001b[0m\u001b[0;34m\u001b[0m\u001b[0m\n\u001b[1;32m   1066\u001b[0m         \u001b[0;32mif\u001b[0m \u001b[0m_is_string_like\u001b[0m\u001b[0;34m(\u001b[0m\u001b[0mfname\u001b[0m\u001b[0;34m)\u001b[0m\u001b[0;34m:\u001b[0m\u001b[0;34m\u001b[0m\u001b[0;34m\u001b[0m\u001b[0m\n\u001b[0;32m-> 1067\u001b[0;31m             \u001b[0mfh\u001b[0m \u001b[0;34m=\u001b[0m \u001b[0mnp\u001b[0m\u001b[0;34m.\u001b[0m\u001b[0mlib\u001b[0m\u001b[0;34m.\u001b[0m\u001b[0m_datasource\u001b[0m\u001b[0;34m.\u001b[0m\u001b[0mopen\u001b[0m\u001b[0;34m(\u001b[0m\u001b[0mfname\u001b[0m\u001b[0;34m,\u001b[0m \u001b[0;34m'rt'\u001b[0m\u001b[0;34m,\u001b[0m \u001b[0mencoding\u001b[0m\u001b[0;34m=\u001b[0m\u001b[0mencoding\u001b[0m\u001b[0;34m)\u001b[0m\u001b[0;34m\u001b[0m\u001b[0;34m\u001b[0m\u001b[0m\n\u001b[0m\u001b[1;32m   1068\u001b[0m             \u001b[0mfencoding\u001b[0m \u001b[0;34m=\u001b[0m \u001b[0mgetattr\u001b[0m\u001b[0;34m(\u001b[0m\u001b[0mfh\u001b[0m\u001b[0;34m,\u001b[0m \u001b[0;34m'encoding'\u001b[0m\u001b[0;34m,\u001b[0m \u001b[0;34m'latin1'\u001b[0m\u001b[0;34m)\u001b[0m\u001b[0;34m\u001b[0m\u001b[0;34m\u001b[0m\u001b[0m\n\u001b[1;32m   1069\u001b[0m             \u001b[0mfh\u001b[0m \u001b[0;34m=\u001b[0m \u001b[0miter\u001b[0m\u001b[0;34m(\u001b[0m\u001b[0mfh\u001b[0m\u001b[0;34m)\u001b[0m\u001b[0;34m\u001b[0m\u001b[0;34m\u001b[0m\u001b[0m\n",
      "\u001b[0;32m~/anaconda3/envs/metodos-tp2-env/lib/python3.7/site-packages/numpy/lib/_datasource.py\u001b[0m in \u001b[0;36mopen\u001b[0;34m(path, mode, destpath, encoding, newline)\u001b[0m\n\u001b[1;32m    191\u001b[0m \u001b[0;34m\u001b[0m\u001b[0m\n\u001b[1;32m    192\u001b[0m     \u001b[0mds\u001b[0m \u001b[0;34m=\u001b[0m \u001b[0mDataSource\u001b[0m\u001b[0;34m(\u001b[0m\u001b[0mdestpath\u001b[0m\u001b[0;34m)\u001b[0m\u001b[0;34m\u001b[0m\u001b[0;34m\u001b[0m\u001b[0m\n\u001b[0;32m--> 193\u001b[0;31m     \u001b[0;32mreturn\u001b[0m \u001b[0mds\u001b[0m\u001b[0;34m.\u001b[0m\u001b[0mopen\u001b[0m\u001b[0;34m(\u001b[0m\u001b[0mpath\u001b[0m\u001b[0;34m,\u001b[0m \u001b[0mmode\u001b[0m\u001b[0;34m,\u001b[0m \u001b[0mencoding\u001b[0m\u001b[0;34m=\u001b[0m\u001b[0mencoding\u001b[0m\u001b[0;34m,\u001b[0m \u001b[0mnewline\u001b[0m\u001b[0;34m=\u001b[0m\u001b[0mnewline\u001b[0m\u001b[0;34m)\u001b[0m\u001b[0;34m\u001b[0m\u001b[0;34m\u001b[0m\u001b[0m\n\u001b[0m\u001b[1;32m    194\u001b[0m \u001b[0;34m\u001b[0m\u001b[0m\n\u001b[1;32m    195\u001b[0m \u001b[0;34m\u001b[0m\u001b[0m\n",
      "\u001b[0;32m~/anaconda3/envs/metodos-tp2-env/lib/python3.7/site-packages/numpy/lib/_datasource.py\u001b[0m in \u001b[0;36mopen\u001b[0;34m(self, path, mode, encoding, newline)\u001b[0m\n\u001b[1;32m    531\u001b[0m                                       encoding=encoding, newline=newline)\n\u001b[1;32m    532\u001b[0m         \u001b[0;32melse\u001b[0m\u001b[0;34m:\u001b[0m\u001b[0;34m\u001b[0m\u001b[0;34m\u001b[0m\u001b[0m\n\u001b[0;32m--> 533\u001b[0;31m             \u001b[0;32mraise\u001b[0m \u001b[0mIOError\u001b[0m\u001b[0;34m(\u001b[0m\u001b[0;34m\"%s not found.\"\u001b[0m \u001b[0;34m%\u001b[0m \u001b[0mpath\u001b[0m\u001b[0;34m)\u001b[0m\u001b[0;34m\u001b[0m\u001b[0;34m\u001b[0m\u001b[0m\n\u001b[0m\u001b[1;32m    534\u001b[0m \u001b[0;34m\u001b[0m\u001b[0m\n\u001b[1;32m    535\u001b[0m \u001b[0;34m\u001b[0m\u001b[0m\n",
      "\u001b[0;31mOSError\u001b[0m: ../tests/pca.txt_autovalores.out not found."
     ]
    }
   ],
   "source": [
    "n = X.shape[0] # Cantidad de imagenes\n",
    "\n",
    "X = X.reshape(n, -1) # X pasa a tener dimension n x (46 x 56)\n",
    "\n",
    "X_centered = X - X.mean(0) # X.mean(0) devuelve un arreglo con la media de cada columna.\n",
    "\n",
    "Mx = X_centered.T@X_centered/(n-1)  # Mx = Matriz de covarianza\n",
    "\n",
    "# Calculo autovalores con numpy\n",
    "# l, V = np.linalg.eigh(Mx)\n",
    "\n",
    "# GUARDO TXT\n",
    "np.savetxt(\"../tests/pca.txt\", Mx, fmt='%.5f', delimiter=' ') # Trunca en 5 decimales (esta bien?)\n",
    "\n",
    "# CORRO METODO\n",
    "run_test(\"pca.txt\", 10000, 1e-5)\n",
    "\n",
    "# CARGO AUTOVALORES Y AUTOVECTORES\n",
    "l = np.loadtxt(\"../tests/pca.txt_autovalores.out\", dtype='f', delimiter=' ')\n",
    "v = np.loadtxt(\"../tests/pca.txt_autovectores.out\", dtype='f', delimiter=' ', usecols=range(3))\n",
    "\n",
    "print(l)\n"
   ]
  },
  {
   "attachments": {},
   "cell_type": "markdown",
   "metadata": {},
   "source": [
    "### ======================================================================================="
   ]
  },
  {
   "attachments": {},
   "cell_type": "markdown",
   "metadata": {},
   "source": [
    "### 2DPCA"
   ]
  },
  {
   "cell_type": "code",
   "execution_count": 10,
   "metadata": {},
   "outputs": [],
   "source": [
    "paths = []\n",
    "imgs = []\n",
    "for path in sorted(list(Path('caras').rglob('*/*.pgm'))):\n",
    "    paths.append(path)\n",
    "    imgs.append(plt.imread(path)[::2,::2])\n",
    "X = np.stack(imgs)"
   ]
  },
  {
   "attachments": {},
   "cell_type": "markdown",
   "metadata": {},
   "source": [
    "La variante 2DPCA 2 considera una imagen en su espacio original como una matriz A ∈ Ra×b\n",
    "y le asocia un feature vector Y ∈ Ra, mediante la transformacion lineal Y = AX siendo\n",
    "X ∈ Rb el vector que maximiza la dispersion de los features vectors obtenidos para todo el\n",
    "conjunto de imagenes. Se puede ver que la eleccion  ́optima para el vector de proyeccion X\n",
    "se corresponde con el autovector de maximo autovalor de la denominada image covariance\n",
    "matrix"
   ]
  },
  {
   "cell_type": "code",
   "execution_count": 5,
   "metadata": {},
   "outputs": [
    {
     "name": "stdout",
     "output_type": "stream",
     "text": [
      "Tengo 410 imagenes de tamano 56x46\n",
      "Corriendo el programa...\n",
      "[1582449.2     599819.44    358704.34    233026.8     166467.75\n",
      "  148195.08    123478.41     98200.13     79611.44     59310.723\n",
      "   53157.484    45080.51     38945.5      35152.414    32514.654\n",
      "   27217.822    25018.7      22815.846    21000.492    19401.13\n",
      "   18807.984    18387.691    16664.152    16597.395    15355.004\n",
      "   14703.68     13819.254    13014.369    12789.487    12005.537\n",
      "   10399.625     9478.293     9208.34      8283.837     7242.492\n",
      "    6673.762     6212.829     5999.4956    5536.206     5087.29\n",
      "    4950.373     4628.532     4412.9263    4331.7974    4310.975\n",
      "    4169.0947]\n"
     ]
    }
   ],
   "source": [
    "print(f\"Tengo {X.shape[0]} imagenes de tamano {X.shape[1]}x{X.shape[2]}\")\n",
    "# A es la imagen\n",
    "imgs = X\n",
    "\n",
    "n = imgs.shape[0] # Cantidad de imagenes\n",
    "\n",
    "A_prom = np.zeros(shape=(imgs.shape[1], imgs.shape[2]))\n",
    "\n",
    "for i in range (n):\n",
    "    A_prom += imgs[i]\n",
    "\n",
    "A_prom /= n\n",
    "\n",
    "\n",
    "# G = image covariance matrix (quiero calcularle autovalores y autovectores)\n",
    "sum = 0\n",
    "for j in range (n): \n",
    "    sum += (np.transpose(imgs[j] - A_prom)) @ (imgs[j] - A_prom)\n",
    "G = (1/n) * sum\n",
    "\n",
    "# GUARDO TXT\n",
    "np.savetxt(\"../tests/2dpca_g.txt\", G, delimiter=' ')\n",
    "\n",
    "# CORRO METODO\n",
    "run_test(\"2dpca_g.txt\", 100000, 1e-20)\n",
    "\n",
    "# CARGO AUTOVALORES Y AUTOVECTORES\n",
    "l = np.loadtxt(\"../tests/2dpca_g.txt_autovalores.out\", dtype='f', delimiter=' ')\n",
    "v = np.loadtxt(\"../tests/2dpca_g.txt_autovectores.out\", dtype='f', delimiter=' ', usecols=range(3))\n",
    "\n",
    "print(l)\n",
    "\n",
    "# V = matriz de feature vectors\n",
    "# U = base de autovectores ortonormales de G\n",
    "# V = imgs[0] @ U\n",
    "\n",
    "\n",
    "# Quiero computar los Zi = (AiX1, AiX2, ..., AiXk) de cada imagen\n",
    "# donde cada AiXk representa el k-esimo feature vector de la imagen Ai\n",
    "\n"
   ]
  },
  {
   "cell_type": "code",
   "execution_count": 13,
   "metadata": {},
   "outputs": [
    {
     "name": "stdout",
     "output_type": "stream",
     "text": [
      "[1582449.25555624  599819.43375503  358704.3313794   233026.79980762\n",
      "  166467.75288011  148195.07387026  123478.40607429   98200.13125969\n",
      "   79611.43491001   59310.72434661   53157.48267007   45080.51300064\n",
      "   38945.49949404   35152.41305416   32514.6536101    27217.82148025\n",
      "   25018.6990721    22815.84627941   21000.49217402   19401.13157525\n",
      "   18807.98364156   18387.69198983   16664.15146487   16597.39502467\n",
      "   15355.00405471   14703.68016929   13819.25434558   13014.36925274\n",
      "   12789.48713691   12005.53705617   10399.62546503    9478.29255684\n",
      "    9208.33973429    8283.83727704    7242.49239514    6673.76217712\n",
      "    6212.82914369    5999.49582842    5536.20605205    5087.29013411\n",
      "    4950.37282709    4628.53234203    4169.09476845    4412.9263435\n",
      "    4310.97503377    4331.79732165]\n"
     ]
    }
   ],
   "source": [
    "# Comparo con numpy y los autovalores dan bien\n",
    "w, v = np.linalg.eig(G)\n",
    "print(w)"
   ]
  },
  {
   "attachments": {},
   "cell_type": "markdown",
   "metadata": {},
   "source": [
    "### Ej 3"
   ]
  }
 ],
 "metadata": {
  "kernelspec": {
   "display_name": "Python 3 (ipykernel)",
   "language": "python",
   "name": "python3"
  },
  "language_info": {
   "codemirror_mode": {
    "name": "ipython",
    "version": 3
   },
   "file_extension": ".py",
   "mimetype": "text/x-python",
   "name": "python",
   "nbconvert_exporter": "python",
   "pygments_lexer": "ipython3",
   "version": "3.7.16"
  }
 },
 "nbformat": 4,
 "nbformat_minor": 2
}
