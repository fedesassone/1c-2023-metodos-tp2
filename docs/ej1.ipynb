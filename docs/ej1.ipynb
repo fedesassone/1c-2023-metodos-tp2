{
 "cells": [
  {
   "cell_type": "code",
   "execution_count": 1,
   "metadata": {},
   "outputs": [],
   "source": [
    "import matplotlib.pyplot as plt\n",
    "import numpy as np\n",
    "import networkx as nx\n",
    "import pandas\n",
    "from io import StringIO\n",
    "import sympy\n",
    "import scipy\n",
    "from sklearn.preprocessing import normalize\n",
    "from pathlib import Path"
   ]
  },
  {
   "cell_type": "code",
   "execution_count": 2,
   "metadata": {},
   "outputs": [],
   "source": [
    "# Funcion para correr .cpp\n",
    "\n",
    "TP = \"../src/main\"\n",
    "TEST_DIR = \"../tests/\"\n",
    "\n",
    "def run_test(test_name: str, niter: int, eps: float): \n",
    "    !{TP} {TEST_DIR + test_name} {niter} {eps}\n",
    "\n",
    "def read_result_autovalores(test_result: str):\n",
    "    return pandas.read_csv(TEST_DIR + test_result + '_autovalores.out', names=[\"autovalores\"])\n",
    "\n",
    "def read_result_autovectores(test_result: str):\n",
    "    return pandas.read_csv(TEST_DIR + test_result + '_autovectores.out' , names=[\"autovectores\"])"
   ]
  },
  {
   "attachments": {},
   "cell_type": "markdown",
   "metadata": {},
   "source": [
    "### 1. Tests metodo de la potencia"
   ]
  },
  {
   "cell_type": "code",
   "execution_count": 17,
   "metadata": {},
   "outputs": [
    {
     "name": "stdout",
     "output_type": "stream",
     "text": [
      "Corriendo el programa...\n",
      "autovalor: 0\n",
      "arranca powerIteration\n",
      "termino powerIteration \n",
      "termino autovalor 0\n",
      "======================\n",
      "autovalor: 1\n",
      "arranca powerIteration\n",
      "termino powerIteration \n",
      "termino autovalor 1\n",
      "======================\n",
      "autovalor: 2\n",
      "arranca powerIteration\n",
      "termino powerIteration \n",
      "termino autovalor 2\n",
      "======================\n",
      "[ 8.83835   -3.2849522  1.446602 ]\n",
      "[[ 0.88455707 -0.22057717 -0.41097993]\n",
      " [ 0.34915668 -0.27109465  0.89699346]\n",
      " [-0.30927074 -0.9369383  -0.16278271]]\n",
      "[ 7.81802505  3.08596897 -2.73344308]\n",
      "[ 7.818025  3.085969 -2.733443]\n",
      "0\n",
      "True\n",
      "1\n",
      "True\n",
      "2\n",
      "True\n"
     ]
    }
   ],
   "source": [
    "# CASO SIMETRICO\n",
    "A = np.array([\n",
    "  [ 7,  2,  -3],\n",
    "  [ 2,  2,  -2],\n",
    "  [-3, -2,  -2]\n",
    "])\n",
    "\n",
    "# GUARDO TXT\n",
    "np.savetxt(\"../tests/simetrico.txt\", A, delimiter=' ')\n",
    "\n",
    "# CORRO METODO\n",
    "run_test(\"simetrico.txt\", 100000, 1e-20)\n",
    "\n",
    "# CARGO AUTOVALORES Y AUTOVECTORES\n",
    "l = np.loadtxt(\"../tests/simetrico.txt_autovalores.out\", dtype='f', delimiter=' ')\n",
    "v = np.loadtxt(\"../tests/simetrico.txt_autovectores.out\", dtype='f', delimiter=' ', usecols=range(3))\n",
    "\n",
    "print(l)\n",
    "print(v)\n",
    "\n",
    "\n",
    "print(A @ v[:, 0])\n",
    "print(l[0] * v[:,0])\n",
    "\n",
    "for i in range(len(A)):\n",
    "    print(i)\n",
    "    print(np.allclose(A @ v[:, i], l[i] * v[:,i], 1e-6))"
   ]
  },
  {
   "cell_type": "code",
   "execution_count": 18,
   "metadata": {},
   "outputs": [
    {
     "name": "stdout",
     "output_type": "stream",
     "text": [
      "Corriendo el programa...\n",
      "autovalor: 0\n",
      "arranca powerIteration\n",
      "termino powerIteration \n",
      "termino autovalor 0\n",
      "======================\n",
      "autovalor: 1\n",
      "arranca powerIteration\n",
      "termino powerIteration \n",
      "termino autovalor 1\n",
      "======================\n",
      "autovalor: 2\n",
      "arranca powerIteration\n",
      "termino powerIteration \n",
      "termino autovalor 2\n",
      "======================\n",
      "Corriendo el programa...\n",
      "autovalor: 0\n",
      "arranca powerIteration\n",
      "termino powerIteration \n",
      "termino autovalor 0\n",
      "======================\n",
      "autovalor: 1\n",
      "arranca powerIteration\n",
      "termino powerIteration \n",
      "termino autovalor 1\n",
      "======================\n",
      "autovalor: 2\n",
      "arranca powerIteration\n",
      "termino powerIteration \n",
      "termino autovalor 2\n",
      "======================\n",
      "[78.11643   10.79091    2.0926573]\n",
      "[78.11643   10.79091    2.0926573]\n",
      "Bingo :)\n",
      "Bingo :)\n"
     ]
    }
   ],
   "source": [
    "# CASO (A) * (A traspuesta)\n",
    "AT = A @ A.T\n",
    "TA = A.T @ A\n",
    "\n",
    "# GUARDO TXT\n",
    "np.savetxt(\"../tests/AT.txt\", AT, delimiter=' ')\n",
    "np.savetxt(\"../tests/TA.txt\", TA, delimiter=' ')\n",
    "\n",
    "# CORRO METODO\n",
    "run_test(\"AT.txt\", 100000, 1e-20)\n",
    "run_test(\"TA.txt\", 100000, 1e-20)\n",
    "\n",
    "# CARGO AUTOVALORES Y AUTOVECTORES\n",
    "l_AT = np.loadtxt(\"../tests/AT.txt_autovalores.out\", dtype='f', delimiter=' ')\n",
    "v_AT = np.loadtxt(\"../tests/AT.txt_autovectores.out\", dtype='f', delimiter=' ', usecols=range(3))\n",
    "\n",
    "l_TA = np.loadtxt(\"../tests/TA.txt_autovalores.out\", dtype='f', delimiter=' ')\n",
    "v_TA = np.loadtxt(\"../tests/TA.txt_autovectores.out\", dtype='f', delimiter=' ', usecols=range(3))\n",
    "\n",
    "print(l_AT)\n",
    "print(l_TA)\n",
    "print(\"Bingo :)\" if np.allclose(l_AT,l_TA) else \"Bongo :(\")\n",
    "print(\"Bingo :)\" if np.allclose(v_AT,v_TA) else \"Bongo :(\")"
   ]
  },
  {
   "attachments": {},
   "cell_type": "markdown",
   "metadata": {},
   "source": [
    "### Ej 2 Juli"
   ]
  },
  {
   "attachments": {},
   "cell_type": "markdown",
   "metadata": {},
   "source": [
    "### PCA"
   ]
  },
  {
   "cell_type": "code",
   "execution_count": 16,
   "metadata": {},
   "outputs": [],
   "source": [
    "paths = []\n",
    "imgs = []\n",
    "for path in sorted(list(Path('caras').rglob('*/*.pgm'))):\n",
    "    paths.append(path)\n",
    "    imgs.append(plt.imread(path)[::2,::2])\n",
    "X = np.stack(imgs)"
   ]
  },
  {
   "cell_type": "code",
   "execution_count": 15,
   "metadata": {},
   "outputs": [
    {
     "name": "stdout",
     "output_type": "stream",
     "text": [
      "Corriendo el programa...\n",
      "autovalor: 0\n",
      "arranca powerIteration\n",
      "termino powerIteration \n",
      "termino autovalor 0\n",
      "======================\n",
      "autovalor: 1\n",
      "arranca powerIteration\n",
      "termino powerIteration \n",
      "termino autovalor 1\n",
      "======================\n",
      "autovalor: 2\n",
      "arranca powerIteration\n",
      "termino powerIteration \n",
      "termino autovalor 2\n",
      "======================\n",
      "autovalor: 3\n",
      "arranca powerIteration\n",
      "^C\n"
     ]
    },
    {
     "ename": "OSError",
     "evalue": "../tests/pca.txt_autovalores.out not found.",
     "output_type": "error",
     "traceback": [
      "\u001b[0;31m---------------------------------------------------------------------------\u001b[0m",
      "\u001b[0;31mOSError\u001b[0m                                   Traceback (most recent call last)",
      "\u001b[0;32m/tmp/ipykernel_24982/3103926280.py\u001b[0m in \u001b[0;36m<module>\u001b[0;34m\u001b[0m\n\u001b[1;32m     17\u001b[0m \u001b[0;34m\u001b[0m\u001b[0m\n\u001b[1;32m     18\u001b[0m \u001b[0;31m# CARGO AUTOVALORES Y AUTOVECTORES\u001b[0m\u001b[0;34m\u001b[0m\u001b[0;34m\u001b[0m\u001b[0;34m\u001b[0m\u001b[0m\n\u001b[0;32m---> 19\u001b[0;31m \u001b[0ml\u001b[0m \u001b[0;34m=\u001b[0m \u001b[0mnp\u001b[0m\u001b[0;34m.\u001b[0m\u001b[0mloadtxt\u001b[0m\u001b[0;34m(\u001b[0m\u001b[0;34m\"../tests/pca.txt_autovalores.out\"\u001b[0m\u001b[0;34m,\u001b[0m \u001b[0mdtype\u001b[0m\u001b[0;34m=\u001b[0m\u001b[0;34m'f'\u001b[0m\u001b[0;34m,\u001b[0m \u001b[0mdelimiter\u001b[0m\u001b[0;34m=\u001b[0m\u001b[0;34m' '\u001b[0m\u001b[0;34m)\u001b[0m\u001b[0;34m\u001b[0m\u001b[0;34m\u001b[0m\u001b[0m\n\u001b[0m\u001b[1;32m     20\u001b[0m \u001b[0mv\u001b[0m \u001b[0;34m=\u001b[0m \u001b[0mnp\u001b[0m\u001b[0;34m.\u001b[0m\u001b[0mloadtxt\u001b[0m\u001b[0;34m(\u001b[0m\u001b[0;34m\"../tests/pca.txt_autovectores.out\"\u001b[0m\u001b[0;34m,\u001b[0m \u001b[0mdtype\u001b[0m\u001b[0;34m=\u001b[0m\u001b[0;34m'f'\u001b[0m\u001b[0;34m,\u001b[0m \u001b[0mdelimiter\u001b[0m\u001b[0;34m=\u001b[0m\u001b[0;34m' '\u001b[0m\u001b[0;34m,\u001b[0m \u001b[0musecols\u001b[0m\u001b[0;34m=\u001b[0m\u001b[0mrange\u001b[0m\u001b[0;34m(\u001b[0m\u001b[0;36m3\u001b[0m\u001b[0;34m)\u001b[0m\u001b[0;34m)\u001b[0m\u001b[0;34m\u001b[0m\u001b[0;34m\u001b[0m\u001b[0m\n\u001b[1;32m     21\u001b[0m \u001b[0;34m\u001b[0m\u001b[0m\n",
      "\u001b[0;32m~/anaconda3/envs/metodos-tp2-env/lib/python3.7/site-packages/numpy/lib/npyio.py\u001b[0m in \u001b[0;36mloadtxt\u001b[0;34m(fname, dtype, comments, delimiter, converters, skiprows, usecols, unpack, ndmin, encoding, max_rows, like)\u001b[0m\n\u001b[1;32m   1065\u001b[0m             \u001b[0mfname\u001b[0m \u001b[0;34m=\u001b[0m \u001b[0mos_fspath\u001b[0m\u001b[0;34m(\u001b[0m\u001b[0mfname\u001b[0m\u001b[0;34m)\u001b[0m\u001b[0;34m\u001b[0m\u001b[0;34m\u001b[0m\u001b[0m\n\u001b[1;32m   1066\u001b[0m         \u001b[0;32mif\u001b[0m \u001b[0m_is_string_like\u001b[0m\u001b[0;34m(\u001b[0m\u001b[0mfname\u001b[0m\u001b[0;34m)\u001b[0m\u001b[0;34m:\u001b[0m\u001b[0;34m\u001b[0m\u001b[0;34m\u001b[0m\u001b[0m\n\u001b[0;32m-> 1067\u001b[0;31m             \u001b[0mfh\u001b[0m \u001b[0;34m=\u001b[0m \u001b[0mnp\u001b[0m\u001b[0;34m.\u001b[0m\u001b[0mlib\u001b[0m\u001b[0;34m.\u001b[0m\u001b[0m_datasource\u001b[0m\u001b[0;34m.\u001b[0m\u001b[0mopen\u001b[0m\u001b[0;34m(\u001b[0m\u001b[0mfname\u001b[0m\u001b[0;34m,\u001b[0m \u001b[0;34m'rt'\u001b[0m\u001b[0;34m,\u001b[0m \u001b[0mencoding\u001b[0m\u001b[0;34m=\u001b[0m\u001b[0mencoding\u001b[0m\u001b[0;34m)\u001b[0m\u001b[0;34m\u001b[0m\u001b[0;34m\u001b[0m\u001b[0m\n\u001b[0m\u001b[1;32m   1068\u001b[0m             \u001b[0mfencoding\u001b[0m \u001b[0;34m=\u001b[0m \u001b[0mgetattr\u001b[0m\u001b[0;34m(\u001b[0m\u001b[0mfh\u001b[0m\u001b[0;34m,\u001b[0m \u001b[0;34m'encoding'\u001b[0m\u001b[0;34m,\u001b[0m \u001b[0;34m'latin1'\u001b[0m\u001b[0;34m)\u001b[0m\u001b[0;34m\u001b[0m\u001b[0;34m\u001b[0m\u001b[0m\n\u001b[1;32m   1069\u001b[0m             \u001b[0mfh\u001b[0m \u001b[0;34m=\u001b[0m \u001b[0miter\u001b[0m\u001b[0;34m(\u001b[0m\u001b[0mfh\u001b[0m\u001b[0;34m)\u001b[0m\u001b[0;34m\u001b[0m\u001b[0;34m\u001b[0m\u001b[0m\n",
      "\u001b[0;32m~/anaconda3/envs/metodos-tp2-env/lib/python3.7/site-packages/numpy/lib/_datasource.py\u001b[0m in \u001b[0;36mopen\u001b[0;34m(path, mode, destpath, encoding, newline)\u001b[0m\n\u001b[1;32m    191\u001b[0m \u001b[0;34m\u001b[0m\u001b[0m\n\u001b[1;32m    192\u001b[0m     \u001b[0mds\u001b[0m \u001b[0;34m=\u001b[0m \u001b[0mDataSource\u001b[0m\u001b[0;34m(\u001b[0m\u001b[0mdestpath\u001b[0m\u001b[0;34m)\u001b[0m\u001b[0;34m\u001b[0m\u001b[0;34m\u001b[0m\u001b[0m\n\u001b[0;32m--> 193\u001b[0;31m     \u001b[0;32mreturn\u001b[0m \u001b[0mds\u001b[0m\u001b[0;34m.\u001b[0m\u001b[0mopen\u001b[0m\u001b[0;34m(\u001b[0m\u001b[0mpath\u001b[0m\u001b[0;34m,\u001b[0m \u001b[0mmode\u001b[0m\u001b[0;34m,\u001b[0m \u001b[0mencoding\u001b[0m\u001b[0;34m=\u001b[0m\u001b[0mencoding\u001b[0m\u001b[0;34m,\u001b[0m \u001b[0mnewline\u001b[0m\u001b[0;34m=\u001b[0m\u001b[0mnewline\u001b[0m\u001b[0;34m)\u001b[0m\u001b[0;34m\u001b[0m\u001b[0;34m\u001b[0m\u001b[0m\n\u001b[0m\u001b[1;32m    194\u001b[0m \u001b[0;34m\u001b[0m\u001b[0m\n\u001b[1;32m    195\u001b[0m \u001b[0;34m\u001b[0m\u001b[0m\n",
      "\u001b[0;32m~/anaconda3/envs/metodos-tp2-env/lib/python3.7/site-packages/numpy/lib/_datasource.py\u001b[0m in \u001b[0;36mopen\u001b[0;34m(self, path, mode, encoding, newline)\u001b[0m\n\u001b[1;32m    531\u001b[0m                                       encoding=encoding, newline=newline)\n\u001b[1;32m    532\u001b[0m         \u001b[0;32melse\u001b[0m\u001b[0;34m:\u001b[0m\u001b[0;34m\u001b[0m\u001b[0;34m\u001b[0m\u001b[0m\n\u001b[0;32m--> 533\u001b[0;31m             \u001b[0;32mraise\u001b[0m \u001b[0mIOError\u001b[0m\u001b[0;34m(\u001b[0m\u001b[0;34m\"%s not found.\"\u001b[0m \u001b[0;34m%\u001b[0m \u001b[0mpath\u001b[0m\u001b[0;34m)\u001b[0m\u001b[0;34m\u001b[0m\u001b[0;34m\u001b[0m\u001b[0m\n\u001b[0m\u001b[1;32m    534\u001b[0m \u001b[0;34m\u001b[0m\u001b[0m\n\u001b[1;32m    535\u001b[0m \u001b[0;34m\u001b[0m\u001b[0m\n",
      "\u001b[0;31mOSError\u001b[0m: ../tests/pca.txt_autovalores.out not found."
     ]
    }
   ],
   "source": [
    "n = X.shape[0] # Cantidad de imagenes\n",
    "\n",
    "X = X.reshape(n, -1) # X pasa a tener dimension n x (46 x 56)\n",
    "\n",
    "X_centered = X - X.mean(0) # X.mean(0) devuelve un arreglo con la media de cada columna.\n",
    "\n",
    "Mx = X_centered.T@X_centered/(n-1)  # Mx = Matriz de covarianza\n",
    "\n",
    "# Calculo autovalores con numpy\n",
    "# l, V = np.linalg.eigh(Mx)\n",
    "\n",
    "# GUARDO TXT\n",
    "np.savetxt(\"../tests/pca.txt\", Mx, fmt='%.5f', delimiter=' ') # Trunca en 5 decimales (esta bien?)\n",
    "\n",
    "# CORRO METODO\n",
    "run_test(\"pca.txt\", 10000, 1e-5)\n",
    "\n",
    "# CARGO AUTOVALORES Y AUTOVECTORES\n",
    "l = np.loadtxt(\"../tests/pca.txt_autovalores.out\", dtype='f', delimiter=' ')\n",
    "v = np.loadtxt(\"../tests/pca.txt_autovectores.out\", dtype='f', delimiter=' ', usecols=range(3))\n",
    "\n",
    "print(l)\n"
   ]
  },
  {
   "attachments": {},
   "cell_type": "markdown",
   "metadata": {},
   "source": [
    "### ======================================================================================="
   ]
  },
  {
   "attachments": {},
   "cell_type": "markdown",
   "metadata": {},
   "source": [
    "### 2DPCA"
   ]
  },
  {
   "cell_type": "code",
   "execution_count": null,
   "metadata": {},
   "outputs": [],
   "source": [
    "paths = []\n",
    "imgs = []\n",
    "for path in sorted(list(Path('caras').rglob('*/*.pgm'))):\n",
    "    paths.append(path)\n",
    "    imgs.append(plt.imread(path)[::2,::2])\n",
    "X = np.stack(imgs)"
   ]
  },
  {
   "attachments": {},
   "cell_type": "markdown",
   "metadata": {},
   "source": [
    "La variante 2DPCA 2 considera una imagen en su espacio original como una matriz A ∈ Ra×b\n",
    "y le asocia un feature vector Y ∈ Ra, mediante la transformacion lineal Y = AX siendo\n",
    "X ∈ Rb el vector que maximiza la dispersion de los features vectors obtenidos para todo el\n",
    "conjunto de imagenes. Se puede ver que la eleccion  ́optima para el vector de proyeccion X\n",
    "se corresponde con el autovector de maximo autovalor de la denominada image covariance\n",
    "matrix"
   ]
  },
  {
   "cell_type": "code",
   "execution_count": null,
   "metadata": {},
   "outputs": [],
   "source": [
    "print(f\"Tengo {X.shape[0]} imagenes de tamano {X.shape[1]}x{X.shape[2]}\")\n",
    "# A es la imagen\n",
    "imgs = X\n",
    "\n",
    "n = imgs.shape[0] # Cantidad de imagenes\n",
    "\n",
    "A_prom = np.zeros(shape=(imgs.shape[1], imgs.shape[2]))\n",
    "\n",
    "for i in range (n):\n",
    "    A_prom += imgs[i]\n",
    "\n",
    "A_prom /= n\n",
    "\n",
    "\n",
    "# G = image covariance matrix (quiero calcularle autovalores y autovectores)\n",
    "sum = 0\n",
    "for j in range (n): \n",
    "    sum += (np.transpose(imgs[j] - A_prom)) @ (imgs[j] - A_prom)\n",
    "G = (1/n) * sum\n",
    "\n",
    "# GUARDO TXT\n",
    "np.savetxt(\"../tests/2dpca_g.txt\", G, delimiter=' ')\n",
    "\n",
    "# CORRO METODO\n",
    "run_test(\"2dpca_g.txt\", 100000, 1e-20)\n",
    "\n",
    "# CARGO AUTOVALORES Y AUTOVECTORES\n",
    "l = np.loadtxt(\"../tests/2dpca_g.txt_autovalores.out\", dtype='f', delimiter=' ')\n",
    "v = np.loadtxt(\"../tests/2dpca_g.txt_autovectores.out\", dtype='f', delimiter=' ', usecols=range(3))\n",
    "\n",
    "print(l)\n",
    "\n",
    "# V = matriz de feature vectors\n",
    "# U = base de autovectores ortonormales de G\n",
    "# V = imgs[0] @ U\n",
    "\n",
    "\n",
    "# Quiero computar los Zi = (AiX1, AiX2, ..., AiXk) de cada imagen\n",
    "# donde cada AiXk representa el k-esimo feature vector de la imagen Ai\n",
    "\n"
   ]
  },
  {
   "cell_type": "code",
   "execution_count": null,
   "metadata": {},
   "outputs": [],
   "source": [
    "# Comparo con numpy y los autovalores dan bien\n",
    "w, v = np.linalg.eig(G)\n",
    "print(w)"
   ]
  },
  {
   "attachments": {},
   "cell_type": "markdown",
   "metadata": {},
   "source": [
    "### Ej 3"
   ]
  }
 ],
 "metadata": {
  "kernelspec": {
   "display_name": "Python 3 (ipykernel)",
   "language": "python",
   "name": "python3"
  },
  "language_info": {
   "codemirror_mode": {
    "name": "ipython",
    "version": 3
   },
   "file_extension": ".py",
   "mimetype": "text/x-python",
   "name": "python",
   "nbconvert_exporter": "python",
   "pygments_lexer": "ipython3",
   "version": "3.7.16"
  }
 },
 "nbformat": 4,
 "nbformat_minor": 2
}
