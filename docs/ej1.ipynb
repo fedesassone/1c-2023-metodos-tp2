{
 "cells": [
  {
   "cell_type": "code",
   "execution_count": null,
   "metadata": {},
   "outputs": [],
   "source": [
    "import matplotlib.pyplot as plt\n",
    "import numpy as np\n",
    "import networkx as nx\n",
    "import pandas\n",
    "from io import StringIO\n",
    "import sympy\n",
    "import scipy\n",
    "from sklearn.preprocessing import normalize\n",
    "from pathlib import Path"
   ]
  },
  {
   "cell_type": "code",
   "execution_count": null,
   "metadata": {},
   "outputs": [],
   "source": [
    "# Funcion para correr .cpp\n",
    "\n",
    "TP = \"../src/main\"\n",
    "TEST_DIR = \"../tests/\"\n",
    "\n",
    "def run_test(test_name: str, niter: int, eps: float): \n",
    "    !{TP} {TEST_DIR + test_name} {niter} {eps}\n",
    "\n",
    "def run_test_pca(test_name: str, niter: int, eps: float, cant: int): \n",
    "    !{TP} {TEST_DIR + test_name} {niter} {eps} {cant}\n",
    "\n",
    "def read_result_autovalores(test_result: str):\n",
    "    return pandas.read_csv(TEST_DIR + test_result + '_autovalores.out', names=[\"autovalores\"])\n",
    "\n",
    "def read_result_autovectores(test_result: str):\n",
    "    return pandas.read_csv(TEST_DIR + test_result + '_autovectores.out' , names=[\"autovectores\"])"
   ]
  },
  {
   "attachments": {},
   "cell_type": "markdown",
   "metadata": {},
   "source": [
    "### 1. Tests metodo de la potencia"
   ]
  },
  {
   "cell_type": "code",
   "execution_count": null,
   "metadata": {},
   "outputs": [],
   "source": [
    "# CASO SIMETRICO\n",
    "A = np.array([\n",
    "  [ 7,  2,  -3],\n",
    "  [ 2,  2,  -2],\n",
    "  [-3, -2,  -2]\n",
    "])\n",
    "\n",
    "# GUARDO TXT\n",
    "np.savetxt(\"../tests/simetrico.txt\", A, delimiter=' ')\n",
    "\n",
    "# CORRO METODO\n",
    "run_test(\"simetrico.txt\", 100000, 1e-21)\n",
    "\n",
    "# CARGO AUTOVALORES Y AUTOVECTORES\n",
    "l = np.loadtxt(\"../tests/simetrico.txt_autovalores.out\", dtype='f', delimiter=' ')\n",
    "v = np.loadtxt(\"../tests/simetrico.txt_autovectores.out\", dtype='f', delimiter=' ', usecols=range(3))\n",
    "\n",
    "print(l)\n",
    "print(v)\n",
    "\n",
    "\n",
    "print(A @ v[:, 0])\n",
    "print(l[0] * v[:,0])\n",
    "\n",
    "for i in range(len(A)):\n",
    "    print(i)\n",
    "    print(np.allclose(A @ v[:, i], l[i] * v[:,i], 1e-6))\n"
   ]
  },
  {
   "cell_type": "code",
   "execution_count": null,
   "metadata": {},
   "outputs": [],
   "source": [
    "# CASO (A) * (A traspuesta)\n",
    "AT = A @ A.T\n",
    "TA = A.T @ A\n",
    "\n",
    "# GUARDO TXT\n",
    "np.savetxt(\"../tests/AT.txt\", AT, delimiter=' ')\n",
    "np.savetxt(\"../tests/TA.txt\", TA, delimiter=' ')\n",
    "\n",
    "# CORRO METODO\n",
    "run_test(\"AT.txt\", 100000, 1e-21)\n",
    "run_test(\"TA.txt\", 100000, 1e-21)\n",
    "\n",
    "# CARGO AUTOVALORES Y AUTOVECTORES\n",
    "l_AT = np.loadtxt(\"../tests/AT.txt_autovalores.out\", dtype='f', delimiter=' ')\n",
    "v_AT = np.loadtxt(\"../tests/AT.txt_autovectores.out\", dtype='f', delimiter=' ', usecols=range(3))\n",
    "\n",
    "l_TA = np.loadtxt(\"../tests/TA.txt_autovalores.out\", dtype='f', delimiter=' ')\n",
    "v_TA = np.loadtxt(\"../tests/TA.txt_autovectores.out\", dtype='f', delimiter=' ', usecols=range(3))\n",
    "\n",
    "print(l_AT)\n",
    "print(l_TA)\n",
    "print(\"Bingo :)\" if np.allclose(l_AT,l_TA) else \"Bongo :(\")\n",
    "print(\"Bingo :)\" if np.allclose(v_AT,v_TA) else \"Bongo :(\")"
   ]
  },
  {
   "attachments": {},
   "cell_type": "markdown",
   "metadata": {},
   "source": [
    "### Ej 2 Juli"
   ]
  },
  {
   "attachments": {},
   "cell_type": "markdown",
   "metadata": {},
   "source": [
    "### PCA"
   ]
  },
  {
   "cell_type": "code",
   "execution_count": null,
   "metadata": {},
   "outputs": [],
   "source": [
    "paths = []\n",
    "imgs = []\n",
    "for path in sorted(list(Path('caras').rglob('*/*.pgm'))):\n",
    "    paths.append(path)\n",
    "    imgs.append(plt.imread(path)[::2,::2]/255)\n",
    "X = np.stack(imgs)"
   ]
  },
  {
   "cell_type": "code",
   "execution_count": null,
   "metadata": {},
   "outputs": [],
   "source": [
    "n = X.shape[0] # Cantidad de imagenes\n",
    "\n",
    "X = X.reshape(n, -1) # X pasa a tener dimension n x (46 x 56)\n",
    "\n",
    "X_centered = X - X.mean(0) # X.mean(0) devuelve un arreglo con la media de cada columna.\n",
    "\n",
    "Mx = X_centered.T@X_centered/(n-1)  # Mx = Matriz de covarianza\n",
    "\n",
    "# Calculo autovalores con numpy\n",
    "# l, V = np.linalg.eigh(Mx)\n",
    "\n",
    "# GUARDO TXT\n",
    "#np.savetxt(\"../tests/pca.txt\", Mx, fmt=\"%1.16e\", delimiter=' ')\n",
    "\n",
    "# CORRO METODO\n",
    "#run_test(\"pca.txt\", 10000, 1e-5)\n",
    "#run_test_pca(\"pca.txt\", 100000, 1e-16, 409)      # Con tolerancia 1e-16 converge rapido, con 1e-17 ya no\n",
    "\n",
    "# CARGO AUTOVALORES Y AUTOVECTORES\n",
    "#l = np.loadtxt(\"../tests/pca.txt_autovalores.out\", dtype='f', delimiter=' ')\n",
    "#v = np.loadtxt(\"../tests/pca.txt_autovectores.out\", dtype='f', delimiter=' ', usecols=range(3))\n",
    "\n",
    "#print(l)\n"
   ]
  },
  {
   "cell_type": "code",
   "execution_count": 13,
   "metadata": {},
   "outputs": [],
   "source": [
    "# Comparo mis autovalores con numpy\n",
    "\n",
    "l = np.loadtxt(\"../tests/pca.txt_autovalores.out\", dtype='f', delimiter=' ')\n",
    "v = np.loadtxt(\"../tests/pca.txt_autovectores.out\", dtype='f', delimiter=' ', usecols=range(409))\n",
    "\n",
    "l_np, v_np = np.linalg.eigh(Mx)\n",
    "\n",
    "# Invierto el orden y me quedo con los 409 primeros\n",
    "l_np = (np.flipud(l_np))[:409]  \n",
    "v_np = (np.fliplr(v_np))[:, :409]\n",
    "\n",
    "# for i in range(v.shape[1]):\n",
    "#     print(i)\n",
    "#     print(np.allclose(Mx @ v[:, i], l[i] * v[:,i], 1e-3))\n",
    "\n",
    "# for i in range(v.shape[1]):\n",
    "#     print(i)\n",
    "#     print(np.allclose(Mx @ v_np[:, i], l_np[i] * v_np[:,i]))"
   ]
  },
  {
   "attachments": {},
   "cell_type": "markdown",
   "metadata": {},
   "source": [
    "### 2) b) PCA"
   ]
  },
  {
   "cell_type": "code",
   "execution_count": 16,
   "metadata": {},
   "outputs": [
    {
     "data": {
      "image/png": "[encoded data removed]",
      "text/plain": [
       "<Figure size 640x480 with 1 Axes>"
      ]
     },
     "metadata": {},
     "output_type": "display_data"
    }
   ],
   "source": [
    "# Grafico los autovalores ordenados en función de las componentes principales\n",
    "plt.plot(np.arange(1, len(l) + 1), l)\n",
    "plt.xlabel('Componente Principal')\n",
    "plt.ylabel('Autovalor')\n",
    "plt.title('Autovalores ordenados en función de la componente principal')\n",
    "plt.show()\n"
   ]
  },
  {
   "attachments": {},
   "cell_type": "markdown",
   "metadata": {},
   "source": [
    "### ======================================================================================="
   ]
  },
  {
   "attachments": {},
   "cell_type": "markdown",
   "metadata": {},
   "source": [
    "### 2DPCA"
   ]
  },
  {
   "cell_type": "code",
   "execution_count": null,
   "metadata": {},
   "outputs": [],
   "source": [
    "paths = []\n",
    "imgs = []\n",
    "for path in sorted(list(Path('caras').rglob('*/*.pgm'))):\n",
    "    paths.append(path)\n",
    "    imgs.append(plt.imread(path)[::,::]/255)\n",
    "X = np.stack(imgs)"
   ]
  },
  {
   "attachments": {},
   "cell_type": "markdown",
   "metadata": {},
   "source": [
    "La variante 2DPCA 2 considera una imagen en su espacio original como una matriz A ∈ Ra×b\n",
    "y le asocia un feature vector Y ∈ Ra, mediante la transformacion lineal Y = AX siendo\n",
    "X ∈ Rb el vector que maximiza la dispersion de los features vectors obtenidos para todo el\n",
    "conjunto de imagenes. Se puede ver que la eleccion  ́optima para el vector de proyeccion X\n",
    "se corresponde con el autovector de maximo autovalor de la denominada image covariance\n",
    "matrix"
   ]
  },
  {
   "cell_type": "code",
   "execution_count": null,
   "metadata": {},
   "outputs": [],
   "source": [
    "print(f\"Tengo {X.shape[0]} imagenes de tamano {X.shape[1]}x{X.shape[2]}\")\n",
    "# A es la imagen\n",
    "imgs = X\n",
    "\n",
    "n = imgs.shape[0] # Cantidad de imagenes\n",
    "\n",
    "A_prom = np.zeros(shape=(imgs.shape[1], imgs.shape[2]))\n",
    "\n",
    "for i in range (n):\n",
    "    A_prom += imgs[i]\n",
    "\n",
    "A_prom /= n\n",
    "\n",
    "\n",
    "# G = image covariance matrix (quiero calcularle autovalores y autovectores)\n",
    "sum = 0\n",
    "for j in range (n): \n",
    "    sum += (np.transpose(imgs[j] - A_prom)) @ (imgs[j] - A_prom)\n",
    "G = (1/n) * sum\n",
    "\n",
    "# GUARDO TXT\n",
    "np.savetxt(\"../tests/2dpca_g.txt\", G, delimiter=' ')\n",
    "\n",
    "# CORRO METODO\n",
    "run_test(\"2dpca_g.txt\", 100000, 1e-21)\n",
    "\n",
    "# CARGO AUTOVALORES Y AUTOVECTORES\n",
    "l = np.loadtxt(\"../tests/2dpca_g.txt_autovalores.out\", dtype='f', delimiter=' ')\n",
    "v = np.loadtxt(\"../tests/2dpca_g.txt_autovectores.out\", dtype='f', delimiter=' ', usecols=range(3))\n",
    "\n",
    "print(l)\n",
    "\n",
    "# V = matriz de feature vectors\n",
    "# U = base de autovectores ortonormales de G\n",
    "# V = imgs[0] @ U\n",
    "\n",
    "\n",
    "# Quiero computar los Zi = (AiX1, AiX2, ..., AiXk) de cada imagen\n",
    "# donde cada AiXk representa el k-esimo feature vector de la imagen Ai\n",
    "\n",
    "\n"
   ]
  },
  {
   "cell_type": "code",
   "execution_count": null,
   "metadata": {},
   "outputs": [],
   "source": [
    "# Comparo mis autovalores con numpy\n",
    "l = np.loadtxt(\"../tests/2dpca_g.txt_autovalores.out\", dtype='f', delimiter=' ')\n",
    "v = np.loadtxt(\"../tests/2dpca_g.txt_autovectores.out\", dtype='f', delimiter=' ', usecols=range(G.shape[0]))\n",
    "\n",
    "l_np, v_np = np.linalg.eigh(G)\n",
    "\n",
    "l_np = (np.flipud(l_np))\n",
    "v_np = (np.fliplr(v_np))\n",
    "\n",
    "\n",
    "print(np.allclose(l, l_np))\n",
    "\n",
    "\n",
    "print(\"======================\")\n",
    "print(\"Numpy: \")\n",
    "print(G @ v_np[:, 0])\n",
    "print(l_np[0] * v_np[:,0])\n",
    "print(\"======================\")\n",
    "print(\"Mi solucion: \")\n",
    "print(G @ v[:, 0])\n",
    "print(l[0] * v[:, 0])\n",
    "\n",
    "\n",
    "for i in range(v.shape[1]):\n",
    "    print(i)\n",
    "    print(np.allclose(G @ v[:, i], l[i] * v[:,i]))\n",
    "\n",
    "for i in range(v.shape[1]):\n",
    "    print(i)\n",
    "    print(np.allclose(G @ v_np[:, i], l_np[i] * v_np[:,i]))"
   ]
  },
  {
   "attachments": {},
   "cell_type": "markdown",
   "metadata": {},
   "source": [
    "### 2) b) 2DPCA\n"
   ]
  },
  {
   "cell_type": "code",
   "execution_count": 12,
   "metadata": {},
   "outputs": [
    {
     "data": {
      "image/png": "[encoded data removed]",
      "text/plain": [
       "<Figure size 640x480 with 1 Axes>"
      ]
     },
     "metadata": {},
     "output_type": "display_data"
    }
   ],
   "source": [
    "# Grafico los autovalores ordenados en función de las componentes principales\n",
    "plt.plot(np.arange(1, len(l) + 1), l)\n",
    "plt.xlabel('Componente Principal')\n",
    "plt.ylabel('Autovalor')\n",
    "plt.title('Autovalores ordenados en función de la componente principal')\n",
    "plt.show()\n",
    "\n"
   ]
  },
  {
   "attachments": {},
   "cell_type": "markdown",
   "metadata": {},
   "source": [
    "### Ej 3"
   ]
  }
 ],
 "metadata": {
  "kernelspec": {
   "display_name": "Python 3 (ipykernel)",
   "language": "python",
   "name": "python3"
  },
  "language_info": {
   "codemirror_mode": {
    "name": "ipython",
    "version": 3
   },
   "file_extension": ".py",
   "mimetype": "text/x-python",
   "name": "python",
   "nbconvert_exporter": "python",
   "pygments_lexer": "ipython3",
   "version": "3.7.16"
  }
 },
 "nbformat": 4,
 "nbformat_minor": 2
}
