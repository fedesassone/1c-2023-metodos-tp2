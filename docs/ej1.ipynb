{
 "cells": [
  {
   "cell_type": "code",
   "execution_count": 3,
   "metadata": {},
   "outputs": [],
   "source": [
    "import matplotlib.pyplot as plt\n",
    "import numpy as np\n",
    "import networkx as nx\n",
    "import pandas\n",
    "from io import StringIO\n",
    "import sympy\n",
    "import scipy\n",
    "from sklearn.preprocessing import normalize\n",
    "from pathlib import Path"
   ]
  },
  {
   "cell_type": "code",
   "execution_count": 4,
   "metadata": {},
   "outputs": [],
   "source": [
    "# Funcion para correr .cpp\n",
    "\n",
    "TP = \"../src/main\"\n",
    "TEST_DIR = \"../tests/\"\n",
    "\n",
    "def run_test(test_name: str, niter: int, eps: float): \n",
    "    !{TP} {TEST_DIR + test_name} {niter} {eps}\n",
    "\n",
    "def read_result_autovalores(test_result: str):\n",
    "    return pandas.read_csv(TEST_DIR + test_result + '_autovalores.out', names=[\"autovalores\"])\n",
    "\n",
    "def read_result_autovectores(test_result: str):\n",
    "    return pandas.read_csv(TEST_DIR + test_result + '_autovectores.out' , names=[\"autovectores\"])"
   ]
  },
  {
   "attachments": {},
   "cell_type": "markdown",
   "metadata": {},
   "source": [
    "### 1. Tests metodo de la potencia"
   ]
  },
  {
   "cell_type": "code",
   "execution_count": 5,
   "metadata": {},
   "outputs": [
    {
     "name": "stdout",
     "output_type": "stream",
     "text": [
      "Corriendo el programa...\n",
      "[ 8.83835   -3.2849522  1.446602 ]\n",
      "[[ 0.88455707 -0.22057717 -0.41097993]\n",
      " [ 0.34915668 -0.27109465  0.89699346]\n",
      " [-0.30927074 -0.9369383  -0.16278271]]\n",
      "[ 7.81802505  3.08596897 -2.73344308]\n",
      "[ 7.818025  3.085969 -2.733443]\n",
      "0\n",
      "True\n",
      "1\n",
      "True\n",
      "2\n",
      "True\n"
     ]
    }
   ],
   "source": [
    "# CASO SIMETRICO\n",
    "A = np.array([\n",
    "  [ 7,  2,  -3],\n",
    "  [ 2,  2,  -2],\n",
    "  [-3, -2,  -2]\n",
    "])\n",
    "\n",
    "# GUARDO TXT\n",
    "np.savetxt(\"../tests/simetrico.txt\", A, delimiter=' ')\n",
    "\n",
    "# CORRO METODO\n",
    "run_test(\"simetrico.txt\", 100000, 1e-20)\n",
    "\n",
    "# CARGO AUTOVALORES Y AUTOVECTORES\n",
    "l = np.loadtxt(\"../tests/simetrico.txt_autovalores.out\", dtype='f', delimiter=' ')\n",
    "v = np.loadtxt(\"../tests/simetrico.txt_autovectores.out\", dtype='f', delimiter=' ', usecols=range(3))\n",
    "\n",
    "print(l)\n",
    "print(v)\n",
    "\n",
    "\n",
    "print(A @ v[:, 0])\n",
    "print(l[0] * v[:,0])\n",
    "\n",
    "for i in range(len(A)):\n",
    "    print(i)\n",
    "    print(np.allclose(A @ v[:, i], l[i] * v[:,i], 1e-6))"
   ]
  },
  {
   "cell_type": "code",
   "execution_count": 6,
   "metadata": {},
   "outputs": [
    {
     "name": "stdout",
     "output_type": "stream",
     "text": [
      "Corriendo el programa...\n",
      "Corriendo el programa...\n",
      "[78.11643   10.79091    2.0926573]\n",
      "[78.11643   10.79091    2.0926573]\n",
      "Bingo :)\n",
      "Bingo :)\n"
     ]
    }
   ],
   "source": [
    "# CASO (A) * (A traspuesta)\n",
    "AT = A @ A.T\n",
    "TA = A.T @ A\n",
    "\n",
    "# GUARDO TXT\n",
    "np.savetxt(\"../tests/AT.txt\", AT, delimiter=' ')\n",
    "np.savetxt(\"../tests/TA.txt\", TA, delimiter=' ')\n",
    "\n",
    "# CORRO METODO\n",
    "run_test(\"AT.txt\", 100000, 1e-20)\n",
    "run_test(\"TA.txt\", 100000, 1e-20)\n",
    "\n",
    "# CARGO AUTOVALORES Y AUTOVECTORES\n",
    "l_AT = np.loadtxt(\"../tests/AT.txt_autovalores.out\", dtype='f', delimiter=' ')\n",
    "v_AT = np.loadtxt(\"../tests/AT.txt_autovectores.out\", dtype='f', delimiter=' ', usecols=range(3))\n",
    "\n",
    "l_TA = np.loadtxt(\"../tests/TA.txt_autovalores.out\", dtype='f', delimiter=' ')\n",
    "v_TA = np.loadtxt(\"../tests/TA.txt_autovectores.out\", dtype='f', delimiter=' ', usecols=range(3))\n",
    "\n",
    "print(l_AT)\n",
    "print(l_TA)\n",
    "print(\"Bingo :)\" if np.allclose(l_AT,l_TA) else \"Bongo :(\")\n",
    "print(\"Bingo :)\" if np.allclose(v_AT,v_TA) else \"Bongo :(\")"
   ]
  },
  {
   "attachments": {},
   "cell_type": "markdown",
   "metadata": {},
   "source": [
    "### Ej 2 Juli"
   ]
  },
  {
   "cell_type": "code",
   "execution_count": null,
   "metadata": {},
   "outputs": [],
   "source": []
  },
  {
   "attachments": {},
   "cell_type": "markdown",
   "metadata": {},
   "source": [
    "### Ej 3"
   ]
  }
 ],
 "metadata": {
  "kernelspec": {
   "display_name": "Python 3 (ipykernel)",
   "language": "python",
   "name": "python3"
  },
  "language_info": {
   "codemirror_mode": {
    "name": "ipython",
    "version": 3
   },
   "file_extension": ".py",
   "mimetype": "text/x-python",
   "name": "python",
   "nbconvert_exporter": "python",
   "pygments_lexer": "ipython3",
   "version": "3.7.16"
  }
 },
 "nbformat": 4,
 "nbformat_minor": 2
}
